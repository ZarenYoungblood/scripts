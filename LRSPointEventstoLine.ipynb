{
 "cells": [
  {
   "metadata": {
    "ExecuteTime": {
     "end_time": "2025-05-28T11:48:19.434735Z",
     "start_time": "2025-05-28T11:48:11.626529Z"
    }
   },
   "cell_type": "code",
   "source": [
    "import pandas as pd\n",
    "\n",
    "pts     = pd.read_excel('C:/Users/e131971/Desktop/Archive/2025/4_and_older/LRSProjects/SpeedSignstoEvent/V4-ThisOneForSure/signs.xlsx','Signs').sort_values(by=['Route_ID','MPT'])\n",
    "rs      = pd.read_excel('C:/Users/e131971/Desktop/Archive/2025/4_and_older/LRSProjects/SpeedSignstoEvent/V4-ThisOneForSure/signs.xlsx','RouteStatus')"
   ],
   "id": "c9325ab776235110",
   "outputs": [],
   "execution_count": 4
  },
  {
   "metadata": {
    "ExecuteTime": {
     "end_time": "2025-05-28T11:48:19.474397Z",
     "start_time": "2025-05-28T11:48:19.466399Z"
    }
   },
   "cell_type": "code",
   "source": [
    "ptRID       = pts['Route_ID']\n",
    "ptEvents    = pts['Sign_Text']\n",
    "ptMP        = pts['MPT']\n",
    "\n",
    "ptRIDstr    = 'Route_ID'\n",
    "ptMPstr     = 'MPT'\n",
    "\n",
    "rsRID   = 'ROUTE_ID'\n",
    "rsBMP   = 'FROM_MEASURE'\n",
    "rsEMP   = 'TO_MEASURE'"
   ],
   "id": "e95690985409e5a4",
   "outputs": [],
   "execution_count": 5
  },
  {
   "metadata": {
    "ExecuteTime": {
     "end_time": "2025-05-28T11:52:59.789709Z",
     "start_time": "2025-05-28T11:48:19.508353Z"
    }
   },
   "cell_type": "code",
   "source": [
    "#'''find the undriven directions, mirror them and combine them with pts (some points will be out of bounds and need to be filtered out)\n",
    "dirs = ['00','EB','WB','NB','SB']   #makes a table of RouteIDs of all possible directions in pts (13 char IDs only)\n",
    "IDs = pd.DataFrame()\n",
    "for i in range(len(dirs)):\n",
    "    IDs[dirs[i]] = ptRID.str[:11] + dirs[i]\n",
    "\n",
    "exists = pd.DataFrame(False, index=range(len(IDs)), columns=dirs)\n",
    "recorded = pd.DataFrame(False, index= range(len(IDs)), columns= dirs)\n",
    "unrecorded = pd.DataFrame('', index= range(len(IDs)), columns= dirs)\n",
    "\n",
    "for row in range(IDs.shape[0]):     #this takes awhile, better way to do things to every element in a table?\n",
    "    for col in range(IDs.shape[1]):\n",
    "\n",
    "        if IDs.iloc[row,col] in rs[rsRID].values:   #sets 'exists' to True if the ID is in RouteStatus\n",
    "            exists.iloc[row,col] = True\n",
    "\n",
    "        if IDs.iloc[row,col] in ptRID.values:   #sets 'recorded' to True if the ID is in pts\n",
    "            recorded.iloc[row,col] = True\n",
    "\n",
    "        if exists.iloc[row,col] == True and recorded.iloc[row,col] == False:    #inputs the RID where it exists but was not recorded\n",
    "            unrecorded.iloc[row,col] = IDs.iloc[row,col]\n",
    "\n",
    "ptEvents    = pd.DataFrame(ptEvents)\n",
    "ptRID       = pd.DataFrame(ptRID)\n",
    "ptMP        = pd.DataFrame(ptMP)\n",
    "udrs        = pd.DataFrame()\n",
    "\n",
    "udrs[ptRID.columns.to_list()[0]] = unrecorded['00'] + unrecorded['EB'] + unrecorded['WB']+ unrecorded['NB'] + unrecorded['SB']\n",
    "    #^smushes unrecorded into one column. Unsure if there is ever a case where more than one RID will appear but it will cause problems if there are.\n",
    "\n",
    "for col in ptEvents.columns.to_list():  #ads the events to the udrs (the for loop allows multiple fields to be preserved)\n",
    "    udrs[col]    = ptEvents[col].copy()\n",
    "udrs[ptMP.columns.to_list()[0]] = ptMP.copy() #adds the MPs to the udrs\n",
    "udrs = udrs[udrs[ptRID.columns.to_list()[0]] != ''] #removes the rows with blank RIDs\n",
    "\n",
    "allPts = pd.concat([pts,udrs],ignore_index=True)"
   ],
   "id": "bb97171b1d96fc00",
   "outputs": [],
   "execution_count": 6
  },
  {
   "metadata": {
    "ExecuteTime": {
     "end_time": "2025-05-28T11:55:18.816678Z",
     "start_time": "2025-05-28T11:52:59.860434Z"
    }
   },
   "cell_type": "code",
   "source": [
    "#'''get the appropriate bmp and emp for each mp, filter out the out of bounds mps\n",
    "bmp = []\n",
    "emp = []\n",
    "for rid in range(allPts.shape[0]):\n",
    "    #makes a smaller route status list with just the matching route ids\n",
    "    sample  = rs[rs[rsRID] == allPts[ptRIDstr][rid]]\n",
    "    i = 0\n",
    "    while i <= sample.shape[0]-1:\n",
    "        if sample.iloc[i][rsBMP]  <= allPts[ptMPstr][i] and allPts[ptMPstr][i] < sample.iloc[i][rsEMP]:\n",
    "            #grabs bmp/emp of the correct segment\n",
    "            bmp.append(sample.iloc[i][rsBMP])\n",
    "            emp.append(sample.iloc[i][rsEMP])\n",
    "            break\n",
    "        elif i == sample.shape[0]-1:\n",
    "            #if all the segments have been checked and no match found, puts in a blank placeholder\n",
    "            bmp.append('')\n",
    "            emp.append('')\n",
    "        i+=1\n",
    "\n",
    "#combine and filter\n",
    "allPts['BMP'] = bmp\n",
    "allPts['EMP'] = emp\n",
    "allPts = allPts[allPts['BMP'] != '']"
   ],
   "id": "66c3753b6d1e86ca",
   "outputs": [],
   "execution_count": 7
  },
  {
   "metadata": {
    "ExecuteTime": {
     "end_time": "2025-05-28T14:48:24.985976Z",
     "start_time": "2025-05-28T14:48:24.494051Z"
    }
   },
   "cell_type": "code",
   "source": [
    "#make the segments\n",
    "allPts.sort_values(by=[ptRIDstr,ptMPstr], inplace=True)\n",
    "allPts = allPts.reset_index(drop=True)\n",
    "\n",
    "firstSegs = allPts.copy().drop_duplicates(subset=[ptRIDstr,'BMP'],keep='first')\n",
    "firstSegs['EMP']            = firstSegs['MPT']\n",
    "\n",
    "toMP  = []\n",
    "for row in range(allPts.shape[0]):\n",
    "    if row + 1 >= allPts.shape[0]:\n",
    "        toMP.append(allPts['EMP'][row])\n",
    "    elif allPts[ptRIDstr][row] == allPts[ptRIDstr][row+1] and allPts['BMP'][row] == allPts['BMP'][row+1]:\n",
    "        toMP.append(allPts[ptMPstr][row+1])\n",
    "    else:\n",
    "        toMP.append(allPts['EMP'][row])\n",
    "\n",
    "allPts['BMP']   = allPts['MPT']\n",
    "allPts['EMP']   = toMP\n",
    "\n",
    "allSegs = pd.concat([firstSegs,allPts],ignore_index=True)\n",
    "allSegs.sort_values(by=[ptRIDstr,'BMP'], inplace=True)\n",
    "allSegs = allSegs.reset_index(drop=True)"
   ],
   "id": "ce78a226976095b1",
   "outputs": [],
   "execution_count": 20
  },
  {
   "metadata": {},
   "cell_type": "code",
   "source": [
    "#merge contiguous events\n",
    "i = 0\n",
    "while i < allSegs.shape[0]:\n",
    "    if i == 0:\n",
    "        allSegs.at[0, 'From_Measure'] = allSegs.at[0, 'BMP']\n",
    "\n",
    "    n = 0 #number of rows that make up a contiguous event\n",
    "    # Make sure we don't go out of bounds\n",
    "    while (i + n + 1) < allSegs.shape[0] and \\\n",
    "          allSegs.at[i + n, ptRIDstr] == allSegs.at[i + n + 1, ptRIDstr] and \\\n",
    "          allSegs.at[i + n, 'Sign_Text'] == allSegs.at[i + n + 1, 'Sign_Text'] and \\\n",
    "          allSegs.at[i + n, 'EMP'] == allSegs.at[i + n + 1, 'BMP']:\n",
    "        n += 1\n",
    "\n",
    "    # Set To_Measure using .at for label-based setting\n",
    "    allSegs.at[i, 'To_Measure'] = allSegs.at[i + n, 'EMP']\n",
    "\n",
    "    # Set From_Measure for the next segment, if within bounds\n",
    "    if (i + n + 1) < allSegs.shape[0]:\n",
    "        allSegs.at[i + n + 1, 'From_Measure'] = allSegs.at[i + n + 1, 'BMP']\n",
    "\n",
    "    i += (n + 1)\n",
    "\n",
    "\n",
    "mergedSegs  = allSegs.copy()\n",
    "mergedSegs  =mergedSegs[mergedSegs['From_Measure'] != '']\n",
    "mergedSegs.drop(['MPT','BMP','EMP'], axis=1, inplace=True)"
   ],
   "id": "ea67677677afbea",
   "outputs": [],
   "execution_count": null
  },
  {
   "metadata": {
    "ExecuteTime": {
     "end_time": "2025-05-28T16:44:38.812413Z",
     "start_time": "2025-05-28T16:44:34.632904Z"
    }
   },
   "cell_type": "code",
   "source": [
    "import arcpy\n",
    "arcpy.conversion.ExcelToTable('C:/Users/e131971/Desktop/Archive/2025/4_and_older/LRSProjects/SpeedSignstoEvent/V4-ThisOneForSure/MergedSegs.xlsx', 'C:/Users/e131971/Desktop/Archive/ArcPro/ArcPro.gdb/Test_Event')\n",
    "#arcpy.lr.MakeRouteEventLayer(in_routes=\"ROUTE_STATUS\",route_id_field=\"ROUTE_ID\",in_table=\"Test_Event\",in_event_properties=\"Route_ID; LINE; From_Measure; To_Measure\",out_layer=\"Test_Event_layer\",add_error_field=\"ERROR_FIELD\")"
   ],
   "id": "d2d5637d6f81eefe",
   "outputs": [
    {
     "data": {
      "text/plain": [
       "<Result 'C:\\\\Users\\\\e131971\\\\Desktop\\\\Archive\\\\ArcPro\\\\ArcPro.gdb\\\\Test_Event'>"
      ],
      "text/html": [
       "<div class='gpresult'><h2>Messages</h2><div id='messages'>Start Time: Wednesday, May 28, 2025 12:44:34 PM<br>Succeeded at Wednesday, May 28, 2025 12:44:38 PM (Elapsed Time: 3.90 seconds)<br></div><div id = 'default' /></div></div>"
      ]
     },
     "execution_count": 34,
     "metadata": {},
     "output_type": "execute_result"
    }
   ],
   "execution_count": 34
  },
  {
   "metadata": {
    "ExecuteTime": {
     "end_time": "2025-05-28T16:44:18.638297Z",
     "start_time": "2025-05-28T16:44:17.736752Z"
    }
   },
   "cell_type": "code",
   "source": [
    "mergedSegs.to_excel('C:/Users/e131971/Desktop/Archive/2025/4_and_older/LRSProjects/SpeedSignstoEvent/V4-ThisOneForSure/MergedSegs.xlsx',index=False)\n",
    "# import pandas as pd\n",
    "# allSegs = pd.read_excel('C:/Users/e131971/Desktop/Archive/2025/4_and_older/LRSProjects/SpeedSignstoEvent/V4-ThisOneForSure/AllSegs.xlsx')"
   ],
   "id": "308d56f9ba3f3e54",
   "outputs": [],
   "execution_count": 33
  }
 ],
 "metadata": {
  "kernelspec": {
   "display_name": "Python 3",
   "language": "python",
   "name": "python3"
  },
  "language_info": {
   "codemirror_mode": {
    "name": "ipython",
    "version": 2
   },
   "file_extension": ".py",
   "mimetype": "text/x-python",
   "name": "python",
   "nbconvert_exporter": "python",
   "pygments_lexer": "ipython2",
   "version": "2.7.6"
  }
 },
 "nbformat": 4,
 "nbformat_minor": 5
}
